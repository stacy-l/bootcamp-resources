{
 "cells": [
  {
   "cell_type": "markdown",
   "metadata": {},
   "source": [
    "__1) Ratio__\n",
    "\n",
    "Ask the user for two numbers (use the `input` function twice, creating a separate variable to store each number). Print out their ratio."
   ]
  },
  {
   "cell_type": "code",
   "execution_count": 1,
   "metadata": {},
   "outputs": [
    {
     "name": "stdout",
     "output_type": "stream",
     "text": [
      "Enter a number and press return:  2\n",
      "Now enter another number and press return:  3\n",
      "The ratio of these two numbers is\n",
      "0.6666666666666666\n"
     ]
    }
   ],
   "source": [
    "num1 = int(input(\"Enter a number and press return:  \"))\n",
    "num2 = int(input(\"Now enter another number and press return:  \"))\n",
    "\n",
    "print(\"The ratio of these two numbers is\")\n",
    "print(num1 / num2)"
   ]
  },
  {
   "cell_type": "markdown",
   "metadata": {},
   "source": [
    "__2) Age__\n",
    "\n",
    "Write a script that will ask for someone's age and print out the year they're born in. The final output should be in the format: You are \"age\" years old, so you were born in \"year\"."
   ]
  },
  {
   "cell_type": "code",
   "execution_count": 7,
   "metadata": {},
   "outputs": [
    {
     "name": "stdout",
     "output_type": "stream",
     "text": [
      "How old are you?\n",
      "55\n",
      "You are 55 years old, so you were born in 1965.\n"
     ]
    }
   ],
   "source": [
    "age = int(input('How old are you?\\n'))\n",
    "\n",
    "currentYear = 2020\n",
    "birthYear   = currentYear - age\n",
    "\n",
    "print('You are {} years old, so you were born in {}.'.format(age, birthYear))"
   ]
  },
  {
   "cell_type": "markdown",
   "metadata": {},
   "source": [
    "__3) Sequence formatting__\n",
    "\n",
    "Here is a string:\n",
    "\n",
    "```Python\n",
    "fasta = '>gene1ACTAGCTACAGTTCGCNAGC>gene2TCGATCNATCGATNGTCGAT'\n",
    "print(fasta)\n",
    "```\n",
    "\n",
    "Can you add special characters such that this **single** string will print like an actual fasta file, with 10 nucleotides per line? \n",
    "\n",
    "The result of printing your string should look like this:\n",
    "\n",
    "    >gene1\n",
    "    ACTAGCTACA\n",
    "    GTTCGCNAGC\n",
    "    >gene2\n",
    "    TCGATCNATC\n",
    "    GATNGTCGAT'"
   ]
  },
  {
   "cell_type": "code",
   "execution_count": 5,
   "metadata": {},
   "outputs": [
    {
     "name": "stdout",
     "output_type": "stream",
     "text": [
      ">gene1\n",
      "ACTAGCTACA\n",
      "GTTCGCNAGC\n",
      ">gene2\n",
      "TCGATCNATC\n",
      "GATNGTCGAT\n"
     ]
    }
   ],
   "source": [
    "fasta = '>gene1\\nACTAGCTACA\\nGTTCGCNAGC\\n>gene2\\nTCGATCNATC\\nGATNGTCGAT'\n",
    "print(fasta)\n"
   ]
  },
  {
   "cell_type": "markdown",
   "metadata": {},
   "source": [
    "__4) Sequence slicing__\n",
    "\n",
    "Here is the sequence of gene1 above, now attributed to a separate variable:\n",
    "```Python\n",
    "gene1 = 'ACTAGCTACAGTTCGCNAGC'\n",
    "```\n",
    "Write a code that will ask 2 questions (use the input function). The first question will ask for a number between 0 and 10 while the second question will ask for a number betwen 11 and 20. Index the variable consisting of the gene1 sequence ranging from the first number to the second. What is the result? It should look something like:\n",
    "```\n",
    "What is the first number? 4\n",
    "What is the second number? 15\n",
    "GCTACAGTTCG\n",
    "```"
   ]
  },
  {
   "cell_type": "code",
   "execution_count": 6,
   "metadata": {},
   "outputs": [
    {
     "name": "stdout",
     "output_type": "stream",
     "text": [
      "Pick a number from 0 to 10\n",
      "4\n",
      "Pick a number form 11 to 20\n",
      "15\n",
      "GCTACAGTTCG\n"
     ]
    }
   ],
   "source": [
    "start = int(input('Pick a number from 0 to 10\\n'))\n",
    "end   = int(input('Pick a number form 11 to 20\\n'))\n",
    "gene1 = 'ACTAGCTACAGTTCGCNAGC'\n",
    "\n",
    "\n",
    "print(gene1[start:end])"
   ]
  },
  {
   "cell_type": "markdown",
   "metadata": {},
   "source": [
    "## Extra practice \n",
    "__1) Sum and Mean__\n",
    "\n",
    "  Read five numbers in. Print out their sum and mean."
   ]
  },
  {
   "cell_type": "code",
   "execution_count": 6,
   "metadata": {
    "scrolled": true
   },
   "outputs": [
    {
     "name": "stdout",
     "output_type": "stream",
     "text": [
      "Enter five numbers, pressing return after each number:\n",
      "Number 1:  1\n",
      "Number 2:  2\n",
      "Number 3:  3\n",
      "Number 4:  4\n",
      "Number 5:  5\n",
      "The sum of these numbers is 15.0\n",
      "And the mean is 3.00\n"
     ]
    }
   ],
   "source": [
    "print(\"Enter five numbers, pressing return after each number:\")\n",
    "num1 = float(input(\"Number 1:  \"))\n",
    "num2 = float(input(\"Number 2:  \"))\n",
    "num3 = float(input(\"Number 3:  \"))\n",
    "num4 = float(input(\"Number 4:  \"))\n",
    "num5 = float(input(\"Number 5:  \"))\n",
    " \n",
    "total_sum = num1 + num2 + num3 + num4 + num5\n",
    "mean = total_sum / 5\n",
    " \n",
    "print(\"The sum of these numbers is {}\".format(total_sum))\n",
    "# Old way...\n",
    "# print \"And the mean is %.2f\" % mean\n",
    "\n",
    "# New way:\n",
    "print(\"And the mean is {:.2f}\".format(mean))"
   ]
  },
  {
   "cell_type": "markdown",
   "metadata": {},
   "source": [
    "__2) Budget__\n",
    "\n",
    "Write a code that asks for how much money you have and also how much something costs (e.g. a pencil). Calculate how many of these things you can buy and how much money you would have left over."
   ]
  },
  {
   "cell_type": "code",
   "execution_count": 4,
   "metadata": {},
   "outputs": [
    {
     "name": "stdout",
     "output_type": "stream",
     "text": [
      "How much money do you have?\n",
      "100\n",
      "How much does a pencil cost?\n",
      "3\n",
      "I can buy 33 pencils with 1 dollars left over\n"
     ]
    }
   ],
   "source": [
    "money  = int(input('How much money do you have?\\n'))\n",
    "pencil = int(input('How much does a pencil cost?\\n'))\n",
    "\n",
    "canBuy   = money//pencil\n",
    "leftOver = money%pencil\n",
    "\n",
    "print('I can buy {} pencils with {} dollars left over' .format(canBuy, leftOver))"
   ]
  },
  {
   "cell_type": "markdown",
   "metadata": {},
   "source": [
    "## Challenge\n",
    "\n",
    "Ask the user for a gene sequence. Print out the codons (triplets of DNA letters) vertically, like in the example below. \n",
    "\n",
    "If the user input is:\n",
    "\n",
    "    CGACTCGATGCTATCGCGATCGC\n",
    "\n",
    "your code should print it out as:\n",
    "\n",
    "```\n",
    "CCGGAGAG\n",
    "GTACTCTC\n",
    "ACTTCGC\n",
    "```\n",
    "\n",
    "**Extra challenge** if you can use a single print statement."
   ]
  },
  {
   "cell_type": "code",
   "execution_count": 20,
   "metadata": {},
   "outputs": [
    {
     "name": "stdout",
     "output_type": "stream",
     "text": [
      "Give me a sequence\n",
      "CGACTCGATGCTATCGCGATCGC\n",
      "Here are the codons\n",
      "CCGGAGAG\n",
      "GTACTCTC\n",
      "ACTTCGC\n"
     ]
    }
   ],
   "source": [
    "seq = input(\"Give me a sequence\\n\")\n",
    "print(\"Here are the codons\")\n",
    "print(seq[::3])\n",
    "print(seq[1::3])\n",
    "print(seq[2::3])"
   ]
  },
  {
   "cell_type": "code",
   "execution_count": 21,
   "metadata": {},
   "outputs": [
    {
     "name": "stdout",
     "output_type": "stream",
     "text": [
      "Give me a sequence\n",
      "CGACTCGATGCTATCGCGATCGC\n",
      "Here are the codons\n",
      "CCGGAGAG\n",
      "GTACTCTC\n",
      "ACTTCGC\n"
     ]
    }
   ],
   "source": [
    "seq = input(\"Give me a sequence\\n\")\n",
    "print(\"Here are the codons\")\n",
    "print(seq[::3]+'\\n'+seq[1::3]+'\\n'+seq[2::3])"
   ]
  },
  {
   "cell_type": "code",
   "execution_count": null,
   "metadata": {},
   "outputs": [],
   "source": []
  }
 ],
 "metadata": {
  "anaconda-cloud": {},
  "kernelspec": {
   "display_name": "Python 3",
   "language": "python",
   "name": "python3"
  },
  "language_info": {
   "codemirror_mode": {
    "name": "ipython",
    "version": 3
   },
   "file_extension": ".py",
   "mimetype": "text/x-python",
   "name": "python",
   "nbconvert_exporter": "python",
   "pygments_lexer": "ipython3",
   "version": "3.8.5"
  }
 },
 "nbformat": 4,
 "nbformat_minor": 4
}
